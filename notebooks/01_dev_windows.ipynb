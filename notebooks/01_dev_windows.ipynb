{
 "cells": [
  {
   "cell_type": "code",
   "id": "initial_id",
   "metadata": {
    "collapsed": true
   },
   "source": [
    ""
   ],
   "outputs": [],
   "execution_count": null
  },
  {
   "metadata": {},
   "cell_type": "code",
   "source": [
    "import argparse  # for parsing command line arguments\n",
    "import yaml  # for parsing the configuration file\n",
    "import os  # for creating folders\n",
    "import signal  # for handling signals\n",
    "import sqlite3  # for saving the data\n",
    "import threading  # for running multiple threads\n",
    "import time  # for performance measurement\n",
    "import datetime  # for storage addressing\n",
    "import pytz  # \"python time zone\" library for precision time zone handling\n",
    "import typing  # for type hints\n",
    "from typing import Callable, Any\n",
    "\n",
    "from paho.mqtt import client as mqtt\n",
    "import pathlib\n",
    "import json"
   ],
   "id": "137cc4d396c381a4",
   "outputs": [],
   "execution_count": null
  },
  {
   "metadata": {},
   "cell_type": "code",
   "source": "q_stream_path = pathlib.Path(\"C:\\\\git\\\\attic_data\\\\everything\")",
   "id": "2c33ce3f2be2d530",
   "outputs": [],
   "execution_count": null
  },
  {
   "metadata": {},
   "cell_type": "code",
   "source": [
    "timestamp_iso_string_inner = datetime.datetime.now(tz=pytz.UTC).isoformat(timespec='microseconds')\n",
    "timestamp_iso_string_inner"
   ],
   "id": "e16fd76876a49ce9",
   "outputs": [],
   "execution_count": null
  },
  {
   "metadata": {},
   "cell_type": "code",
   "source": [
    "folder_names_inner = timestamp_iso_string_inner.split('T')[0].split('-')\n",
    "\"/\".join(folder_names_inner)"
   ],
   "id": "d1b74cbd6abb25d5",
   "outputs": [],
   "execution_count": null
  },
  {
   "metadata": {},
   "cell_type": "code",
   "source": [
    "import pathlib\n",
    "import re\n",
    "\"/\".join(folder_names_inner)\n",
    "pathlib.Path().mkdir(parents=True, exist_ok=True)"
   ],
   "id": "2d0fe9580bc581dc",
   "outputs": [],
   "execution_count": null
  },
  {
   "metadata": {},
   "cell_type": "code",
   "source": "datetime.datetime.now(tz=pytz.UTC)",
   "id": "77df12141eab459b",
   "outputs": [],
   "execution_count": null
  },
  {
   "metadata": {},
   "cell_type": "code",
   "source": [
    "def datetime_to_safestring(timestamp: datetime.datetime) -> str:\n",
    "    unsafestring = datetime.datetime.now(tz=pytz.UTC).isoformat(timespec='microseconds')\n",
    "    safestring = re.sub(r'[/:*?\"<>|.]', '_', unsafestring)\n",
    "    return safestring\n",
    "\n",
    "def safestring_to_datetime(safestring: str) -> datetime.datetime:\n",
    "    unsafestring = re.sub(r'[_]', ':', safestring)\n",
    "    return datetime.datetime.fromisoformat(unsafestring)\n",
    "\n",
    "def test_datetime_safestring_conversion():\n",
    "    log = lambda x: None\n",
    "    timestamp = datetime.datetime.now(tz=pytz.UTC)\n",
    "    log(timestamp)\n",
    "    safestring = datetime_to_safestring(timestamp)\n",
    "    log(safestring)\n",
    "    timestamp_recovered = safestring_to_datetime(safestring)\n",
    "    log(timestamp_recovered)\n",
    "    timedelta = timestamp_recovered - timestamp\n",
    "    timedelta_seconds = timedelta.total_seconds()\n",
    "    assert(timedelta_seconds < 1e-2)\n",
    "    log(timedelta_seconds)\n",
    "    \n",
    "test_datetime_safestring_conversion()"
   ],
   "id": "53958fc9fa80b895",
   "outputs": [],
   "execution_count": null
  },
  {
   "metadata": {},
   "cell_type": "code",
   "source": [
    "timestamp_iso_string_inner = datetime.datetime.now(tz=pytz.UTC).isoformat(timespec='microseconds')\n",
    "print(timestamp_iso_string_inner)\n",
    "file_name = f'{timestamp_iso_string_inner}'\n",
    "safe_filename = re.sub(r'[/:*?\"<>|.]', '_', file_name)\n",
    "print(safe_filename)\n",
    "timestamp_str_recovered = re.sub(r'[_]', ':', safe_filename)\n",
    "print(timestamp_str_recovered)\n",
    "datetime_back_from_safefilename = datetime.datetime.fromisoformat(timestamp_str_recovered)\n",
    "print(datetime_back_from_safefilename)\n",
    "# prepare folder name\n",
    "# folder per day should be sufficient for this application\n",
    "folder_names_inner = timestamp_iso_string_inner.split('T')[0].split('-')\n",
    "full_folder_name = pathlib.Path(q_stream_path, *folder_names_inner)\n",
    "full_folder_name"
   ],
   "id": "4972ded4011ffaee",
   "outputs": [],
   "execution_count": null
  },
  {
   "metadata": {},
   "cell_type": "code",
   "source": "type(datetime.datetime.now(tz=pytz.UTC))",
   "id": "4552d5432d5ebc12",
   "outputs": [],
   "execution_count": null
  },
  {
   "metadata": {},
   "cell_type": "code",
   "source": [
    "bsqlite_db_path = full_folder_name.joinpath(safe_filename)\n",
    "sqlite_db_path"
   ],
   "id": "604de25e1226d3e2",
   "outputs": [],
   "execution_count": null
  },
  {
   "metadata": {},
   "cell_type": "code",
   "source": [
    "# get the files in that path\n",
    "files = [x for x in os.listdir(full_folder_name) if x.endswith('.sqlite')]"
   ],
   "id": "823c7b85a8afc488",
   "outputs": [],
   "execution_count": null
  },
  {
   "metadata": {},
   "cell_type": "code",
   "source": [
    "files\n",
    "# open the latest sqlite file with pandas\n",
    "import pandas as pd\n",
    "import sqlite3\n",
    "conn = sqlite3.connect(full_folder_name.joinpath(files[-1]))\n",
    "df = pd.read_sql_query(\"SELECT * FROM data\", conn)\n",
    "# select only where topic is \"Temperatures/temperatures\"\n",
    "df_temperatures = df[df.topic == \"Temperatures/temperatures\"].copy()\n",
    "# decode json payload into columns\n",
    "df_temperatures.loc[:,'json'] = df_temperatures.payload.apply(lambda x: json.loads(x.decode('utf-8')))\n",
    "df_temperatures.drop(columns=['payload'], inplace=True)\n",
    "df_temperatures = pd.json_normalize(df_temperatures.json)\n",
    "df_temperatures_expanded = df_temperatures.temperatures.apply(pd.Series)\n",
    "df_temperatures = pd.concat([df_temperatures.drop(columns='temperatures') , df_temperatures_expanded], axis=1)\n",
    "df_temperatures['timestamp']=df_temperatures.timestamp.apply(lambda x: datetime.datetime.fromisoformat(x))\n",
    "# df_temperatures_expanded\n",
    "df_temperatures"
   ],
   "id": "7a1810e21941653d",
   "outputs": [],
   "execution_count": null
  },
  {
   "metadata": {},
   "cell_type": "code",
   "source": [
    "from matplotlib import pyplot as plt\n",
    "hf = plt.figure(figsize=[9,6], dpi=100)\n",
    "href = plt.plot(df_temperatures.timestamp, df_temperatures[0], label='ref')\n",
    "h1 = plt.plot(df_temperatures.timestamp, df_temperatures[1], label='ch1')\n",
    "h1 = plt.plot(df_temperatures.timestamp, df_temperatures[2], label='ch2')\n",
    "plt.grid()\n",
    "plt.show()"
   ],
   "id": "d84624c23123b118",
   "outputs": [],
   "execution_count": null
  },
  {
   "metadata": {},
   "cell_type": "code",
   "source": "datetime.daatetime.fromisoformat(df_temperatures.timestamp[0])",
   "id": "2aa36c92bf34d576",
   "outputs": [],
   "execution_count": null
  },
  {
   "metadata": {},
   "cell_type": "code",
   "source": [
    "# list the tables in the database\n",
    "cursor = conn.cursor()\n",
    "cursor.execute(\"SELECT name FROM sqlite_master WHERE type='table';\")\n",
    "print(cursor.fetchall())"
   ],
   "id": "73cedfd2b826a9dc",
   "outputs": [],
   "execution_count": null
  }
 ],
 "metadata": {
  "kernelspec": {
   "display_name": "Python 3",
   "language": "python",
   "name": "python3"
  },
  "language_info": {
   "codemirror_mode": {
    "name": "ipython",
    "version": 2
   },
   "file_extension": ".py",
   "mimetype": "text/x-python",
   "name": "python",
   "nbconvert_exporter": "python",
   "pygments_lexer": "ipython2",
   "version": "2.7.6"
  }
 },
 "nbformat": 4,
 "nbformat_minor": 5
}
