{
 "cells": [
  {
   "cell_type": "code",
   "id": "initial_id",
   "metadata": {
    "collapsed": true
   },
   "source": [
    ""
   ],
   "outputs": [],
   "execution_count": null
  },
  {
   "metadata": {
    "jupyter": {
     "is_executing": true
    }
   },
   "cell_type": "code",
   "source": [
    "import argparse  # for parsing command line arguments\n",
    "import yaml  # for parsing the configuration file\n",
    "import os  # for creating folders\n",
    "import signal  # for handling signals\n",
    "import sqlite3  # for saving the data\n",
    "import threading  # for running multiple threads\n",
    "import time  # for performance measurement\n",
    "import datetime  # for storage addressing\n",
    "import pytz  # \"python time zone\" library for precision time zone handling\n",
    "import typing  # for type hints\n",
    "from typing import Callable, Any\n",
    "\n",
    "from paho.mqtt import client as mqtt"
   ],
   "id": "137cc4d396c381a4",
   "outputs": [],
   "execution_count": null
  },
  {
   "metadata": {},
   "cell_type": "code",
   "source": "q_stream_path = \"/var/attic/dev/01/\"",
   "id": "2c33ce3f2be2d530",
   "outputs": [],
   "execution_count": null
  },
  {
   "metadata": {},
   "cell_type": "code",
   "source": [
    "timestamp_iso_string_inner = datetime.datetime.now(tz=pytz.UTC).isoformat(timespec='microseconds')\n",
    "timestamp_iso_string_inner"
   ],
   "id": "e16fd76876a49ce9",
   "outputs": [],
   "execution_count": null
  },
  {
   "metadata": {},
   "cell_type": "code",
   "source": [
    "folder_names_inner = timestamp_iso_string_inner.split('T')[0].split('-')\n",
    "\"/\".join(folder_names_inner)"
   ],
   "id": "d1b74cbd6abb25d5",
   "outputs": [],
   "execution_count": null
  },
  {
   "metadata": {},
   "cell_type": "code",
   "source": [
    "import pathlib\n",
    "import re\n",
    "\"/\".join(folder_names_inner)\n",
    "pathlib.Path().mkdir(parents=True, exist_ok=True)"
   ],
   "id": "2d0fe9580bc581dc",
   "outputs": [],
   "execution_count": null
  },
  {
   "metadata": {},
   "cell_type": "code",
   "source": "datetime.datetime.now(tz=pytz.UTC)",
   "id": "77df12141eab459b",
   "outputs": [],
   "execution_count": null
  },
  {
   "metadata": {},
   "cell_type": "code",
   "source": [
    "def datetime_to_safestring(timestamp: datetime.datetime) -> str:\n",
    "    unsafestring = datetime.datetime.now(tz=pytz.UTC).isoformat(timespec='microseconds')\n",
    "    safestring = re.sub(r'[/:*?\"<>|.]', '_', unsafestring)\n",
    "    return safestring\n",
    "\n",
    "def safestring_to_datetime(safestring: str) -> datetime.datetime:\n",
    "    unsafestring = re.sub(r'[_]', ':', safestring)\n",
    "    return datetime.datetime.fromisoformat(unsafestring)\n",
    "\n",
    "def test_datetime_safestring_conversion():\n",
    "    log = lambda x: None\n",
    "    timestamp = a\n",
    "    log(timestamp)\n",
    "    safestring = datetime_to_safestring(timestamp)\n",
    "    log(safestring)\n",
    "    timestamp_recovered = safestring_to_datetime(safestring)\n",
    "    log(timestamp_recovered)\n",
    "    timedelta = timestamp_recovered - timestamp\n",
    "    timedelta_seconds = timedelta.total_seconds()\n",
    "    assert(timedelta_seconds < 1e-2)\n",
    "    log(timedelta_seconds)\n",
    "    \n",
    "test_datetime_safestring_conversion()"
   ],
   "id": "53958fc9fa80b895",
   "outputs": [],
   "execution_count": null
  },
  {
   "metadata": {},
   "cell_type": "code",
   "source": [
    "timestamp_iso_string_inner = datetime.datetime.now(tz=pytz.UTC).isoformat(timespec='microseconds')\n",
    "print(timestamp_iso_string_inner)\n",
    "file_name = f'{timestamp_iso_string_inner}'\n",
    "safe_filename = re.sub(r'[/:*?\"<>|.]', '_', file_name)\n",
    "print(safe_filename)\n",
    "timestamp_str_recovered = re.sub(r'[_]', ':', safe_filename)\n",
    "print(timestamp_str_recovered)\n",
    "datetime_back_from_safefilename = datetime.datetime.fromisoformat(timestamp_str_recovered)\n",
    "print(datetime_back_from_safefilename)\n",
    "# prepare folder name\n",
    "# folder per day should be sufficient for this application\n",
    "folder_names_inner = timestamp_iso_string_inner.split('T')[0].split('-')\n",
    "full_folder_name = pathlib.Path(q_stream_path, *folder_names_inner)\n",
    "full_folder_name"
   ],
   "id": "4972ded4011ffaee",
   "outputs": [],
   "execution_count": null
  },
  {
   "metadata": {},
   "cell_type": "code",
   "source": "type(datetime.datetime.now(tz=pytz.UTC))",
   "id": "4552d5432d5ebc12",
   "outputs": [],
   "execution_count": null
  },
  {
   "metadata": {},
   "cell_type": "code",
   "source": [
    "sqlite_db_path = full_folder_name.joinpath(safe_filename)\n",
    "sqlite_db_path"
   ],
   "id": "604de25e1226d3e2",
   "outputs": [],
   "execution_count": null
  }
 ],
 "metadata": {
  "kernelspec": {
   "display_name": "Python 3",
   "language": "python",
   "name": "python3"
  },
  "language_info": {
   "codemirror_mode": {
    "name": "ipython",
    "version": 2
   },
   "file_extension": ".py",
   "mimetype": "text/x-python",
   "name": "python",
   "nbconvert_exporter": "python",
   "pygments_lexer": "ipython2",
   "version": "2.7.6"
  }
 },
 "nbformat": 4,
 "nbformat_minor": 5
}
